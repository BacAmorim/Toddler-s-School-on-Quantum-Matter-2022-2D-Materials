{
 "cells": [
  {
   "cell_type": "markdown",
   "metadata": {},
   "source": [
    "# Tutorial on 2D-Materials\n",
    "## Toddler's School on Quantum Matter\n",
    "### - Hands-on session"
   ]
  },
  {
   "cell_type": "markdown",
   "metadata": {},
   "source": [
    "# 0. Setup\n",
    "Let us start by importing some required packages:"
   ]
  },
  {
   "cell_type": "code",
   "execution_count": 1,
   "metadata": {},
   "outputs": [],
   "source": [
    "using LinearAlgebra # linear algebra package (we will use it to compute eigenvalues)\n",
    "using PyPlot # ploting package"
   ]
  },
  {
   "cell_type": "markdown",
   "metadata": {},
   "source": [
    "# 1. Graphene Bandstructure\n",
    "\n",
    "The tight-binding Hamiltonian for graphene can be written as\n",
    "$$\n",
    "H=-t\\sum_{\\mathbf{R}}\\sum_{n=1}^{3}\\left(\\left|\\mathbf{R},A\\right\\rangle \\left\\langle \\mathbf{R}+\\mathbf{t}_{n},B\\right|+\\left|\\mathbf{R}+\\mathbf{t}_{n},B\\right\\rangle \\left\\langle \\mathbf{R},A\\right|\\right)\n",
    "$$\n",
    "\n",
    "where $\\mathbf{R}$ runs over Bravais lattice sites and\n",
    "\n",
    "$$\n",
    "\\begin{align*}\n",
    "\\mathbf{t}_{1} & =0\\\\\n",
    "\\mathbf{t}_{2} & =-\\mathbf{a}_{1}\\\\\n",
    "\\mathbf{t}_{3} & =-\\mathbf{a}_{2}\n",
    "\\end{align*}\n",
    "$$.\n",
    "\n",
    "Expressing the localized states as a Fourier series:\n",
    "$$\n",
    "\\begin{align*}\n",
    "\\left|\\mathbf{R},A\\right\\rangle  & =\\frac{1}{\\sqrt{N}}\\sum_{\\mathbf{k}}e^{-i\\mathbf{k}\\cdot\\left(\\mathbf{R}+\\mathbf{s}_{A}\\right)}\\left|\\mathbf{k},A\\right\\rangle \\\\\n",
    "\\left|\\mathbf{R},B\\right\\rangle  & =\\frac{1}{\\sqrt{N}}\\sum_{\\mathbf{k}}e^{-i\\mathbf{k}\\cdot\\left(\\mathbf{R}+\\mathbf{s}_{B}\\right)}\\left|\\mathbf{k},B\\right\\rangle \n",
    "\\end{align*}\n",
    "$$\n",
    "\n",
    "where \n",
    "$$\n",
    "\\begin{align*}\n",
    "\\mathbf{s}_{A} & =0\\\\\n",
    "\\mathbf{s}_{B} & =\\frac{\\mathbf{a}_{1}+\\mathbf{a}_{2}}{3}\n",
    "\\end{align*}\n",
    "$$\n",
    "\n",
    "The Hamiltonian takes the form\n",
    "$$\n",
    "H=\\sum_{\\mathbf{k}}\\left[\\begin{array}{cc}\n",
    "\\left|\\mathbf{k},A\\right\\rangle  & \\left|\\mathbf{k},B\\right\\rangle \\end{array}\\right]\\left[\\begin{array}{cc}\n",
    " & -t\\gamma_{\\mathbf{k}}\\\\\n",
    "-t\\gamma_{\\mathbf{k}}^{*}\n",
    "\\end{array}\\right]\\left[\\begin{array}{c}\n",
    "\\left\\langle \\mathbf{k},A\\right|\\\\\n",
    "\\left\\langle \\mathbf{k},B\\right|\n",
    "\\end{array}\\right],\n",
    "$$\n",
    "\n",
    "where $\\gamma_{\\mathbf{k}}=\\sum_{n=1}^{3}e^{i\\mathbf{k}\\cdot\\boldsymbol{\\delta}_{n}}$, with $\\boldsymbol{\\delta}_n$ the 3 nearest neighbour vectors, connecting an A site to a B site:\n",
    "$$\n",
    "\\begin{align*}\n",
    "\\boldsymbol{\\delta}_{1} & =\\frac{a}{\\sqrt{3}}\\left(0,1\\right)\\\\\n",
    "\\boldsymbol{\\delta}_{2} & =\\frac{a}{\\sqrt{3}}\\left(-\\frac{\\sqrt{3}}{2},-\\frac{1}{2}\\right)\\\\\n",
    "\\boldsymbol{\\delta}_{3} & =\\frac{a}{\\sqrt{3}}\\left(\\frac{\\sqrt{3}}{2},-\\frac{1}{2}\\right)\n",
    "\\end{align*}\n",
    "$$"
   ]
  },
  {
   "cell_type": "markdown",
   "metadata": {},
   "source": [
    "$$\n",
    "\\boldsymbol{H}_{\\mathbf{k}}=\\left[\\begin{array}{cc}\n",
    " & -t\\gamma_{\\mathbf{k}}\\\\\n",
    "-t\\gamma_{\\mathbf{k}}^{*}\n",
    "\\end{array}\\right]\n",
    "$$"
   ]
  },
  {
   "cell_type": "markdown",
   "metadata": {},
   "source": [
    "## Problem 1.1\n",
    "\n",
    "Compute the eigenvalues of the Bloch Hamiltonian\n",
    "$$\n",
    "\\boldsymbol{H}_{\\mathbf{k}}=\\left[\\begin{array}{cc}\n",
    " & -t\\gamma_{\\mathbf{k}}\\\\\n",
    "-t\\gamma_{\\mathbf{k}}^{*}\n",
    "\\end{array}\\right].\n",
    "$$\n",
    "\n",
    "Show that you get\n",
    "$$\n",
    "E_{\\mathbf{k},\\pm}=\\pm t\\left|\\gamma_{\\mathbf{k}}\\right|=\\pm t\\sqrt{3+2\\cos\\left(k_{x}a\\right)+4\\cos\\left(\\frac{\\sqrt{3}}{2}k_{y}a\\right)\\cos\\left(\\frac{1}{2}k_{x}a\\right)}\n",
    "$$\n",
    "\n",
    "Represent the band structure in a 2D plot and also in a 1D plot along the path $\\Gamma \\rightarrow K \\rightarrow M \\rightarrow \\Gamma$, where\n",
    "$$\n",
    "\\begin{align*}\n",
    "\\Gamma & =\\left(0,0\\right)\\\\\n",
    "K & =\\frac{4\\pi}{3a}\\left(1,0\\right)\\\\\n",
    "M & =\\frac{2\\pi}{\\sqrt{3}a}\\left(\\frac{\\sqrt{3}}{2},\\frac{1}{2}\\right)\n",
    "\\end{align*}\n",
    "$$\n",
    "\n",
    "N.B.: It is useuful to write a function that given a set of points creates a piecewise linear path that connects those points.\n",
    "\n"
   ]
  },
  {
   "cell_type": "markdown",
   "metadata": {},
   "source": [
    "## Problem 1.2\n",
    "Implement a function that creates the matrix $\\boldsymbol{H}_\\mathbf{k}$ and computes the eigenvalues numerically. Compare the numerical result with the analytic one."
   ]
  },
  {
   "cell_type": "markdown",
   "metadata": {},
   "source": [
    "## Problem 1.3\n",
    "Consider the low energy (Dirac) approximation to the graphene Hamiltonian:\n",
    "$$\n",
    "\\boldsymbol{H}_{K+\\mathbf{p}}\\simeq H_{\\mathbf{p}}^{\\text{Dirac}}=v_{F}\\hbar\\left[\\begin{array}{cc}\n",
    " & p_{x}-ip_{y}\\\\\n",
    "p_{x}+ip_{y}\n",
    "\\end{array}\\right]\n",
    "$$\n",
    "where $\n",
    "v_{F}\\hbar=\\sqrt{3}ta/2$.\n",
    "\n",
    "Implement a function that creates the matrix $\\boldsymbol{H}^\\text{Dirac}_\\mathbf{p}$ and computes the eigenvalues numerically. Compare the obtained bands with the dispersion from the the previous problem. (N.B.: the momentum $\\mathbf{p}$ is measured with respect to the K point)."
   ]
  },
  {
   "cell_type": "markdown",
   "metadata": {},
   "source": [
    "## Problem 1.4\n",
    "Now let us study the effect of having unequal atoms occupying the sites A and B. This can be modelled by modifying the Hamiltonian:\n",
    "$$\n",
    "\\boldsymbol{H}_{\\mathbf{k}}=\\left[\\begin{array}{cc}\n",
    "\\Delta & -t\\gamma_{\\mathbf{k}}\\\\\n",
    "-t\\gamma_{\\mathbf{k}}^{*} & -\\Delta\n",
    "\\end{array}\\right]\n",
    "$$\n",
    "Modify the functions from Problem 1.2 and 1.3 to include this modification. Plot the bandstructure and study the effect of changing $\\Delta$."
   ]
  },
  {
   "cell_type": "markdown",
   "metadata": {},
   "source": [
    "# 2. Bernal Stacked bilayer graphene\n",
    "The Hamiltonian for Bernal stacked bilayer graphene can be written as\n",
    "$$\n",
    "\\begin{align*}\n",
    "H= & -t\\sum_{\\mathbf{R}}\\sum_{n=1}^{3}\\left(\\left|\\mathbf{R},A,1\\right\\rangle \\left\\langle \\mathbf{R}+\\mathbf{t}_{n},B,1\\right|+\\left|\\mathbf{R}+\\mathbf{t}_{n},B,1\\right\\rangle \\left\\langle \\mathbf{R},A,1\\right|\\right)\\\\\n",
    " & -t\\sum_{\\mathbf{R}}\\sum_{n=1}^{3}\\left(\\left|\\mathbf{R},A,2\\right\\rangle \\left\\langle \\mathbf{R}+\\mathbf{t}_{n},B,2\\right|+\\left|\\mathbf{R}+\\mathbf{t}_{n},B,2\\right\\rangle \\left\\langle \\mathbf{R},A,2\\right|\\right)\\\\\n",
    " & + t_{\\perp}\\sum_{\\mathbf{R}}\\left(\\left|\\mathbf{R},A,1\\right\\rangle \\left\\langle \\mathbf{R},B,2\\right|+\\left|\\mathbf{R},B,2\\right\\rangle \\left\\langle \\mathbf{R},A,1\\right|\\right)\n",
    "\\end{align*}\n",
    "$$\n",
    "\n",
    "Making a Fourier transform\n",
    "$$\n",
    "\\begin{align*}\n",
    "\\left|\\mathbf{R},A,1\\right\\rangle  & =\\frac{1}{\\sqrt{N}}\\sum_{\\mathbf{k}}e^{-i\\mathbf{k}\\cdot\\left(\\mathbf{R}+\\mathbf{s}_{A,1}\\right)}\\left|\\mathbf{k},A,1\\right\\rangle \\\\\n",
    "\\left|\\mathbf{R},B,1\\right\\rangle  & =\\frac{1}{\\sqrt{N}}\\sum_{\\mathbf{k}}e^{-i\\mathbf{k}\\cdot\\left(\\mathbf{R}+\\mathbf{s}_{B,1}\\right)}\\left|\\mathbf{k},B,1\\right\\rangle \\\\\n",
    "\\left|\\mathbf{R},A,2\\right\\rangle  & =\\frac{1}{\\sqrt{N}}\\sum_{\\mathbf{k}}e^{-i\\mathbf{k}\\cdot\\left(\\mathbf{R}+\\mathbf{s}_{A,2}\\right)}\\left|\\mathbf{k},A,2\\right\\rangle \\\\\n",
    "\\left|\\mathbf{R},B,2\\right\\rangle  & =\\frac{1}{\\sqrt{N}}\\sum_{\\mathbf{k}}e^{-i\\mathbf{k}\\cdot\\left(\\mathbf{R}+\\mathbf{s}_{B,2}\\right)}\\left|\\mathbf{k},B,2\\right\\rangle \n",
    "\\end{align*}\n",
    "$$\n",
    "\n",
    "where\n",
    "$$\n",
    "\\begin{align*}\n",
    "\\mathbf{s}_{A,1} & =0\\\\\n",
    "\\mathbf{s}_{B,1} & =\\frac{\\mathbf{a}_{1}+\\mathbf{a}_{2}}{3}\\\\\n",
    "\\mathbf{s}_{A,2} & =-\\frac{\\mathbf{a}_{1}+\\mathbf{a}_{2}}{3}\\\\\n",
    "\\mathbf{s}_{B,2} & =0\n",
    "\\end{align*}\n",
    "$$\n",
    "\n",
    "We obtain the Hamiltonian\n",
    "$$\n",
    "\\begin{align*}\n",
    "H= & \\sum_{\\mathbf{k}}\\left[\\begin{array}{cccc}\n",
    "\\left|\\mathbf{k},A,1\\right\\rangle  & \\left|\\mathbf{k},B,1\\right\\rangle  & \\left|\\mathbf{k},A,2\\right\\rangle  & \\left|\\mathbf{k},B,2\\right\\rangle \\end{array}\\right]\\cdot\\\\\n",
    " & \\hfill\\hfill\\left[\\begin{array}{cccc}\n",
    "0 & -t\\gamma_{\\mathbf{k}} & 0 & t_{\\perp}\\\\\n",
    "-t\\gamma_{\\mathbf{k}}^{*} & 0 & 0 & 0\\\\\n",
    "0 & 0 & 0 & -t\\gamma_{\\mathbf{k}}\\\\\n",
    "t_{\\perp} & 0 & -t\\gamma_{\\mathbf{k}}^{*} & 0\n",
    "\\end{array}\\right]\\left[\\begin{array}{c}\n",
    "\\left\\langle \\mathbf{k},A,1\\right|\\\\\n",
    "\\left\\langle \\mathbf{k},B,1\\right|\\\\\n",
    "\\left\\langle \\mathbf{k},A,2\\right|\\\\\n",
    "\\left\\langle \\mathbf{k},B,2\\right|\n",
    "\\end{array}\\right]\n",
    "\\end{align*}\n",
    "$$"
   ]
  },
  {
   "cell_type": "markdown",
   "metadata": {},
   "source": [
    "## Problem 2.1\n",
    "Implement a function that implements the Bloch Hamiltonian\n",
    "$$\n",
    "\\boldsymbol{H}_{\\mathbf{k}}=\\left[\\begin{array}{cccc}\n",
    "0 & -t\\gamma_{\\mathbf{k}} & 0 & t_{\\perp}\\\\\n",
    "-t\\gamma_{\\mathbf{k}}^{*} & 0 & 0 & 0\\\\\n",
    "0 & 0 & 0 & -t\\gamma_{\\mathbf{k}}\\\\\n",
    "t_{\\perp} & 0 & -t\\gamma_{\\mathbf{k}}^{*} & 0\n",
    "\\end{array}\\right]\n",
    "$$\n",
    "\n",
    "and computes its eigenenergies. Make 2D and 1D representations of the band strucutre (use the same path as for graphene)."
   ]
  },
  {
   "cell_type": "markdown",
   "metadata": {},
   "source": [
    "# Problem 2.2\n",
    "Consider the low energy approximation to the band structure close to the K point:\n",
    "$$\n",
    "\\boldsymbol{H}_{\\mathbf{k}}=\\left[\\begin{array}{cccc}\n",
    "0 & v_{F}\\hbar\\left(p_{x}-ip_{y}\\right) & 0 & t_{\\perp}\\\\\n",
    "v_{F}\\hbar\\left(p_{x}+ip_{y}\\right) & 0 & 0 & 0\\\\\n",
    "0 & 0 & 0 & v_{F}\\hbar\\left(p_{x}-ip_{y}\\right)\\\\\n",
    "t_{\\perp} & 0 & v_{F}\\hbar\\left(p_{x}+ip_{y}\\right) & 0\n",
    "\\end{array}\\right]\n",
    "$$\n",
    "Compute the band structure for this case and compare with the full bandstructure."
   ]
  },
  {
   "cell_type": "markdown",
   "metadata": {},
   "source": [
    "## Problem 2.3\n",
    "The effect of an applied interlayer bias potential can be modelled by modifying the Hamiltonian to\n",
    "$$\n",
    "\\boldsymbol{H}_{\\mathbf{k}}=\\left[\\begin{array}{cccc}\n",
    "V/2 & -t\\gamma_{\\mathbf{k}} & 0 & t_{\\perp}\\\\\n",
    "-t\\gamma_{\\mathbf{k}}^{*} & V/2 & 0 & 0\\\\\n",
    "0 & 0 & -V/2 & -t\\gamma_{\\mathbf{k}}\\\\\n",
    "t_{\\perp} & 0 & -t\\gamma_{\\mathbf{k}}^{*} & -V/2\n",
    "\\end{array}\\right]\n",
    "$$\n",
    "\n",
    "Modify the function from the previous problem to this case. Study the effect of  V on the bandstruture."
   ]
  },
  {
   "cell_type": "markdown",
   "metadata": {},
   "source": [
    "# Problem 2.4 (bonus)\n",
    "\n",
    "AA-stacked graphene is decribed by the Hamiltonian\n",
    "$$\n",
    "\\boldsymbol{H}_{\\mathbf{k}}=\\left[\\begin{array}{cccc}\n",
    "0 & -t\\gamma_{\\mathbf{k}} & t_{\\perp} & 0\\\\\n",
    "-t\\gamma_{\\mathbf{k}}^{*} & 0 & 0 & t_{\\perp}\\\\\n",
    "t_{\\perp} & 0 & 0 & -t\\gamma_{\\mathbf{k}}\\\\\n",
    "0 & t_{\\perp} & -t\\gamma_{\\mathbf{k}}^{*} & 0\n",
    "\\end{array}\\right]\n",
    "$$\n",
    "\n",
    "Study the bandstructure for this case. Also study the effect of an applied interlayer bias."
   ]
  },
  {
   "cell_type": "markdown",
   "metadata": {},
   "source": [
    "# 3. Twisted bilayer graphene"
   ]
  },
  {
   "cell_type": "markdown",
   "metadata": {},
   "source": [
    "## Problem 3.1\n",
    "Implement a function that builds the 2-wave approximation Hamiltonian to twisted bilayer graphene:\n",
    "$$\n",
    "H_{\\mathbf{p}}^{2-\\text{wave}}=\\left[\\begin{array}{cc}\n",
    "\\boldsymbol{H}_{\\theta/2}(\\mathbf{p}-\\Delta\\mathbf{K}) & \\boldsymbol{T}_{0}\\\\\n",
    "\\boldsymbol{T}_{0}^{\\dagger} & \\boldsymbol{H}_{-\\theta/2}(\\mathbf{p})\n",
    "\\end{array}\\right]\n",
    "$$\n",
    "where\n",
    "$$\n",
    "\\begin{align*}\n",
    "\\boldsymbol{H}_{\\theta}(\\mathbf{p}) & =v_{F}\\hbar\\left[\\begin{array}{cc}\n",
    " & p_{x}^{\\theta}-ip_{y}^{\\theta}\\\\\n",
    "p_{x}^{\\theta}+ip_{y}^{\\theta}\n",
    "\\end{array}\\right]\\\\\n",
    "p_{x}^{\\theta} & =\\cos\\theta p_{x}+\\sin\\theta p_{y}\\\\\n",
    "p_{y}^{\\theta} & =-\\sin\\theta p_{x}+\\cos\\theta p_{y}.\n",
    "\\end{align*}\n",
    "$$\n",
    "\n",
    "and\n",
    "$$\n",
    "\\boldsymbol{T}_{0}  =\\left[\\begin{array}{cc}\n",
    "t_{12} & t_{12}\\\\\n",
    "t_{12} & t_{12}\n",
    "\\end{array}\\right]\n",
    "$$\n",
    "\n",
    "Plot the band structure along the path K2 -> K1."
   ]
  },
  {
   "cell_type": "markdown",
   "metadata": {},
   "source": [
    "## Problem 3.2\n",
    "Implement a function that builds the 4-wave approximation Hamiltonian of twisted bilayer graphene:\n",
    "$$\n",
    "H_{\\mathbf{p}}^{4-\\text{wave}}=\\left[\\begin{array}{cccc}\n",
    "\\boldsymbol{H}_{\\theta/2}(\\mathbf{p}-\\Delta\\mathbf{K}+\\mathbf{b}_{0}^{\\text{m}}) &  &  & \\boldsymbol{T}_{0}\\\\\n",
    " & \\boldsymbol{H}_{\\theta/2}(\\mathbf{p}-\\Delta\\mathbf{K}+\\mathbf{b}_{1}^{\\text{m}}) &  & \\boldsymbol{T}_{1}\\\\\n",
    " &  & \\boldsymbol{H}_{\\theta/2}(\\mathbf{p}-\\Delta\\mathbf{K}+\\mathbf{b}_{2}^{\\text{m}}) & \\boldsymbol{T}_{2}\\\\\n",
    "\\boldsymbol{T}_{0}^{\\dagger} & \\boldsymbol{T}_{1}^{\\dagger} & \\boldsymbol{T}_{2}^{\\dagger} & \\boldsymbol{H}_{-\\theta/2}(\\mathbf{p})\n",
    "\\end{array}\\right]\n",
    "$$\n",
    "\n",
    "where\n",
    "$$\n",
    "\\begin{align*}\n",
    "\\mathbf{b}_{0}^{\\text{m}} & =\\mathbf{0}\\\\\n",
    "\\mathbf{b}_{1}^{\\text{m}} & =\\mathbf{b}_{2,2}-\\mathbf{b}_{1,2}=\\frac{4\\pi}{\\sqrt{3}a}2\\sin\\left(\\frac{\\theta}{2}\\right)\\left(\\frac{1}{2},\\frac{\\sqrt{3}}{2}\\right)\\\\\n",
    "\\mathbf{b}_{2}^{\\text{m}} & =\\mathbf{b}_{1,1}-\\mathbf{b}_{2,1}=\\frac{4\\pi}{\\sqrt{3}a}2\\sin\\left(\\frac{\\theta}{2}\\right)\\left(-\\frac{1}{2},\\frac{\\sqrt{3}}{2}\\right)\n",
    "\\end{align*}\n",
    "$$\n",
    "and\n",
    "$$\n",
    "\\begin{align*}\n",
    "\\boldsymbol{T}_{0} & =\\left[\\begin{array}{cc}\n",
    "t_{12}^{AA} & t_{12}^{AB}\\\\\n",
    "t_{12}^{AB} & t_{12}^{AA}\n",
    "\\end{array}\\right]\\\\\n",
    "\\boldsymbol{T}_{1} & =\\left[\\begin{array}{cc}\n",
    "t_{12}^{AA} & e^{-i\\frac{2\\pi}{3}}t_{12}^{AB}\\\\\n",
    "e^{i\\frac{2\\pi}{3}}t_{12}^{AB} & t_{12}^{AA}\n",
    "\\end{array}\\right]\\\\\n",
    "\\boldsymbol{T}_{2} & =\\left[\\begin{array}{cc}\n",
    "t_{12}^{AA} & e^{i\\frac{2\\pi}{3}}t_{12}^{AB}\\\\\n",
    "e^{-i\\frac{2\\pi}{3}}t_{12}^{AB} & t_{12}^{AA}\n",
    "\\end{array}\\right]\n",
    "\\end{align*}\n",
    "$$\n",
    "Plot the band structure along the path K2 -> K1."
   ]
  },
  {
   "cell_type": "markdown",
   "metadata": {},
   "source": [
    "# Problem 3.3\n",
    "\n",
    "For this exercise you don't need to write code. The ideia is to use the code that is made available and to explore what happens when diferent parameters are changed. However, if you have any question regarding the code, fell free to ask!\n",
    "\n",
    "Use the following implementation of the N-wave approximation oftwisted bilayer graphene:"
   ]
  },
  {
   "cell_type": "code",
   "execution_count": 173,
   "metadata": {},
   "outputs": [
    {
     "data": {
      "text/plain": [
       "hamiltonian (generic function with 1 method)"
      ]
     },
     "execution_count": 173,
     "metadata": {},
     "output_type": "execute_result"
    }
   ],
   "source": [
    "function spanlattice(a1, a2, radius; shift = [0.0, 0.0])\n",
    "    \n",
    "    N1 = Int(div(radius, norm(a1), RoundUp))\n",
    "    N2 = Int(div(radius, norm(a2), RoundUp))\n",
    "    \n",
    "    pts_car = Vector{Float64}[]\n",
    "    \n",
    "    pts_lat = Vector{Int}[]\n",
    "\n",
    "    for n1 in -N1:N1\n",
    "        for n2 in -N2:N2\n",
    "\n",
    "            pt = n1*a1 + n2*a2\n",
    "            \n",
    "            if norm(pt) <= radius\n",
    "                push!(pts_car, pt + shift)\n",
    "                push!(pts_lat, [n1, n2])\n",
    "                \n",
    "            end\n",
    "            \n",
    "        end\n",
    "    end\n",
    "\n",
    "    return pts_lat, pts_car\n",
    "end\n",
    "\n",
    "function hAB(k, theta)\n",
    "    \n",
    "    px = k[1]*cos(theta) + k[2]*sin(theta)\n",
    "    py = k[2]*cos(theta) - k[1]*sin(theta)\n",
    "    \n",
    "    return px - im*py\n",
    "end\n",
    "\n",
    "struct TBLG\n",
    "    twistangle::Float64\n",
    "    a::Float64\n",
    "    t::Float64\n",
    "    tAA::Float64\n",
    "    tAB::Float64\n",
    "    moirebasis::Tuple{Vector{Float64}, Vector{Float64}}\n",
    "    blochbasis_lattice::Vector{Vector{Int}}\n",
    "    blochbasis_cartesian::Vector{Vector{Float64}}\n",
    "end\n",
    "\n",
    "dim(tblg::TBLG) = 4*length(tblg.blochbasis_lattice)\n",
    "\n",
    "function build_tblg(theta, cutoff; a = 2.46, t = 2.7, tAA = 0.4/3/2.7, tAB = 0.4/3/2.7)\n",
    "    \n",
    "    b1 = 4pi/(sqrt(3)*a)*2*sin(theta/2)*[0.5, sqrt(3)/2]\n",
    "    b2 = 4pi/(sqrt(3)*a)*2*sin(theta/2)*[-0.5, sqrt(3)/2]\n",
    "    \n",
    "    blochbasis_lattice, blochbasis_cartesian = spanlattice(b1, b2, cutoff)\n",
    "    \n",
    "    return TBLG(theta, a, t, tAA, tAB, (b1, b2), blochbasis_lattice, blochbasis_cartesian)\n",
    "    \n",
    "end\n",
    "\n",
    "function hamiltonian(tblg::TBLG, k)\n",
    "    \n",
    "    theta = tblg.twistangle\n",
    "    a = tblg.a\n",
    "    t = tblg.t\n",
    "    tAA = tblg.tAA\n",
    "    tAB = tblg.tAB\n",
    "    \n",
    "    b1, b2 = tblg.moirebasis\n",
    "    \n",
    "    ΔK = 4pi/(3*a)*2*sin(theta/2)*[0.0, 1.0]\n",
    "    vF = sqrt(3)*t*a/2\n",
    "    \n",
    "    blochbasis_lat = tblg.blochbasis_lattice\n",
    "    blochbasis_cart = tblg.blochbasis_cartesian\n",
    "    Ngpts = length(tblg.blochbasis_cartesian)\n",
    "    \n",
    "    w = cis(2pi/3)\n",
    "    T0 = [tAA tAB; tAB tAA]\n",
    "    T1 = [tAA tAB/w; tAB*w tAA]\n",
    "    T2 = [tAA tAB*w; tAB/w tAA]\n",
    "    \n",
    "    Ts = (T0, T1, T2)\n",
    "    bs = ([0, 0], [1, 0], [0, 1])\n",
    "    \n",
    "    mat = zeros(Complex{Float64}, 2*2*Ngpts, 2*2*Ngpts)\n",
    "    #index matrix elements with sublattice + 2*(g-1) + 2*Ngpts*(layer-1)\n",
    "    for g in 1:Ngpts\n",
    "        G = blochbasis_cart[g]\n",
    "        \n",
    "        # intralayer terms for layer 1:\n",
    "        γk1 = vF*hAB(k + G - ΔK, theta/2)\n",
    "        mat[1 + 2*(g-1) + 2*Ngpts*(1-1), 2 + 2*(g-1) + 2*Ngpts*(1-1)] = γk1\n",
    "        mat[2 + 2*(g-1) + 2*Ngpts*(1-1), 1 + 2*(g-1) + 2*Ngpts*(1-1)] = conj(γk1)\n",
    "        \n",
    "        # intralayer terms for layer 2:\n",
    "        γk2 = vF*hAB(k + G, -theta/2)\n",
    "        mat[1 + 2*(g-1) + 2*Ngpts*(2-1), 2 + 2*(g-1) + 2*Ngpts*(2-1)] = γk2\n",
    "        mat[2 + 2*(g-1) + 2*Ngpts*(2-1), 1 + 2*(g-1) + 2*Ngpts*(2-1)] = conj(γk2)\n",
    "        \n",
    "        # 2->1 interlayer terms:\n",
    "        for j in 1:3\n",
    "            gprime = searchsortedfirst(blochbasis_lat, blochbasis_lat[g] + bs[j])\n",
    "            if 1 <= gprime <= Ngpts\n",
    "                for α in 1:2\n",
    "                    for β in 1:2\n",
    "                        mat[α + 2*(gprime-1) + 2*Ngpts*(1-1), β + 2*(g-1) + 2*Ngpts*(2-1)] = Ts[j][α, β]\n",
    "                        mat[β + 2*(g-1) + 2*Ngpts*(2-1), α + 2*(gprime-1) + 2*Ngpts*(1-1)] = conj(Ts[j][α, β]) # 1->2 coupling\n",
    "                    end\n",
    "                end\n",
    "            end\n",
    "        end\n",
    "        \n",
    "    \n",
    "    end \n",
    "    \n",
    "    return mat\n",
    "end"
   ]
  },
  {
   "cell_type": "markdown",
   "metadata": {},
   "source": [
    "Use the function `build_tblg` to build a twisted bilayer graphene builder with angle of 5 degrees and cutoff of 3*|ΔK|:\n"
   ]
  },
  {
   "cell_type": "code",
   "execution_count": 238,
   "metadata": {},
   "outputs": [],
   "source": [
    "angle = 5*pi/180\n",
    "a = 2.46\n",
    "dK = 4pi/(3*a)*2*sin(angle/2)\n",
    "cutoff = 3*dK\n",
    "t = 2.7\n",
    "tAA = 0.1\n",
    "tAB = 0.1\n",
    "\n",
    "\n",
    "tblg = build_tblg(angle, cutoff, a = a, t = t, tAA = tAA, tAB = tAB)\n",
    ";"
   ]
  },
  {
   "cell_type": "markdown",
   "metadata": {},
   "source": [
    "Check the dimension of the Hamiltonian:"
   ]
  },
  {
   "cell_type": "code",
   "execution_count": 239,
   "metadata": {},
   "outputs": [
    {
     "data": {
      "text/plain": [
       "28"
      ]
     },
     "execution_count": 239,
     "metadata": {},
     "output_type": "execute_result"
    }
   ],
   "source": [
    "dim(tblg)"
   ]
  },
  {
   "cell_type": "markdown",
   "metadata": {},
   "source": [
    "Consider the Path: K2 ->  K2 + ΔK -> K2 + R(-2π/6)*ΔK ->  K2 + 0.5*R(-2π/3)*ΔK -> K2\n",
    "\n",
    "which we build as"
   ]
  },
  {
   "cell_type": "code",
   "execution_count": 240,
   "metadata": {},
   "outputs": [
    {
     "data": {
      "text/plain": [
       "tblg_path (generic function with 1 method)"
      ]
     },
     "execution_count": 240,
     "metadata": {},
     "output_type": "execute_result"
    }
   ],
   "source": [
    "function tblg_path(tblg::TBLG, npts)\n",
    "    theta = tblg.twistangle\n",
    "    a = tblg.a \n",
    "    ΔK = 4pi/(3*a)*2*sin(theta/2)*[0.0, 1.0]\n",
    "    R(θ) = [cos(θ) -sin(θ); sin(θ) cos(θ)]\n",
    "\n",
    "    Km2 = [0.0, 0.0]\n",
    "    Km1 = Km2 + ΔK \n",
    "    Γm = Km2 + R(-2pi/6)*ΔK \n",
    "    Mm = Km2 + 0.5*R(-2pi/3)*ΔK \n",
    "\n",
    "    return  path([Km2, Km1, Γm, Mm, Km2], npts)\n",
    "    \n",
    "end"
   ]
  },
  {
   "cell_type": "code",
   "execution_count": 246,
   "metadata": {},
   "outputs": [],
   "source": [
    "kpts_m, karc_m = tblg_path(tblg, 300);"
   ]
  },
  {
   "cell_type": "markdown",
   "metadata": {},
   "source": [
    "Let us visualize the path:"
   ]
  },
  {
   "cell_type": "code",
   "execution_count": 247,
   "metadata": {},
   "outputs": [
    {
     "data": {
      "image/png": "[encoded data removed]",
      "text/plain": [
       "Figure(PyObject <Figure size 640x480 with 1 Axes>)"
      ]
     },
     "metadata": {},
     "output_type": "display_data"
    }
   ],
   "source": [
    "fig, ax = subplots()\n",
    "ax.scatter([k[1] for k in kpts_m], [k[2] for k in kpts_m])\n",
    "ax.set_aspect(\"equal\")"
   ]
  },
  {
   "cell_type": "markdown",
   "metadata": {},
   "source": [
    "Evaluate the band structure along the path:"
   ]
  },
  {
   "cell_type": "code",
   "execution_count": 248,
   "metadata": {},
   "outputs": [],
   "source": [
    "tblg_bandstructure = bandstructure(k -> hamiltonian(tblg, k), kpts_m);"
   ]
  },
  {
   "cell_type": "code",
   "execution_count": 245,
   "metadata": {},
   "outputs": [
    {
     "data": {
      "image/png": "[encoded data removed]",
      "text/plain": [
       "Figure(PyObject <Figure size 640x480 with 1 Axes>)"
      ]
     },
     "metadata": {},
     "output_type": "display_data"
    },
    {
     "data": {
      "text/plain": [
       "(-1.5, 1.5)"
      ]
     },
     "execution_count": 245,
     "metadata": {},
     "output_type": "execute_result"
    }
   ],
   "source": [
    "for n=1:dim(tblg)\n",
    "    plot(karc_m, [En[n] for En in tblg_bandstructure], c = \"C1\")\n",
    "end\n",
    "ylim(-1.5, 1.5)"
   ]
  },
  {
   "cell_type": "markdown",
   "metadata": {},
   "source": [
    "Explore what happens when:\n",
    "- You reduce the angle, keeping everything else fixed;\n",
    "- Increase the value of tAA and tAB, keeping everything else fix;\n",
    "- Change the relative strength of tAA and tAB. In particular, write tAA = x.tAB and change x from 1 to 0"
   ]
  }
 ],
 "metadata": {
  "kernelspec": {
   "display_name": "julia-8-threads 1.7.2",
   "language": "julia",
   "name": "julia-8-threads-1.7"
  },
  "language_info": {
   "file_extension": ".jl",
   "mimetype": "application/julia",
   "name": "julia",
   "version": "1.7.2"
  }
 },
 "nbformat": 4,
 "nbformat_minor": 4
}
